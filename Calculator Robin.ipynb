{
 "cells": [
  {
   "cell_type": "code",
   "execution_count": null,
   "metadata": {},
   "outputs": [],
   "source": [
    "# Calculator #1\n",
    "def calculator1(income, taxinfo):\n",
    "   taxinfo.insert(0, (0, 0))\n",
    "   tax = 0\n",
    "   i = 0\n",
    "   while income > taxinfo[i][0] and i + 1 < len(taxinfo):\n",
    "       tax += (taxinfo[i+1][0] - taxinfo[i][0]) * (taxinfo[i+1][1])\n",
    "       i += 1\n",
    "   tax += (income - taxinfo[i][0]) * (taxinfo[i][1])\n",
    "   return tax\n",
    "calculator(income, taxinfo)"
   ]
  },
  {
   "cell_type": "code",
   "execution_count": null,
   "metadata": {},
   "outputs": [],
   "source": [
    "%%timeit\n",
    "# Timing Calculator #1\n",
    "income = 20000\n",
    "taxinfo = [(50000, 0.08), (100000, 0.10), (150000, 0.15)]\n",
    "calculator1(income, taxinfo)"
   ]
  },
  {
   "cell_type": "code",
   "execution_count": 577,
   "metadata": {},
   "outputs": [],
   "source": [
    "# Ugly and slow solution #1\n",
    "def calculator2(ti, inc):\n",
    "    def bisect(a, x, lo=0, hi=None):\n",
    "        while lo < hi:\n",
    "            if x < a[(lo+hi)//2]:\n",
    "                hi = (lo+hi)//2 \n",
    "            else:\n",
    "                lo = ((lo+hi)//2)+1\n",
    "        return lo\n",
    "    return sum([list(zip(*ti))[1][bisect(list(zip(*ti))[0], i, 0, hi=len(ti)-1)] for i in range(inc)])"
   ]
  },
  {
   "cell_type": "code",
   "execution_count": 578,
   "metadata": {},
   "outputs": [
    {
     "data": {
      "text/plain": [
       "24000.00000007125"
      ]
     },
     "execution_count": 578,
     "metadata": {},
     "output_type": "execute_result"
    }
   ],
   "source": [
    "#%%timeit\n",
    "# Timing Ugly and slow solution #1\n",
    "income = 200000\n",
    "info = [(50000, 0.08), (100000, 0.10), (150000, 0.15)]\n",
    "info.sort()\n",
    "taxinfo=info\n",
    "calculator2(info, 200000)"
   ]
  },
  {
   "cell_type": "code",
   "execution_count": 24,
   "metadata": {},
   "outputs": [],
   "source": [
    "## Ugly but fast one-liner\n",
    "def calculator3(ti, inc):\n",
    "    ti_w = [(a[0], b[0]-a[0], b[1]) for a, b in zip([(0, 0)]+ti, ti)]\n",
    "    return sum([min(w, inc-s)*r for s, w, r in ti_w[:-1] if inc>=s] \\\n",
    "               +[(inc-s) * r if inc>=s else 0 for s, _, r in ti_w[-1:]])"
   ]
  },
  {
   "cell_type": "code",
   "execution_count": 25,
   "metadata": {},
   "outputs": [
    {
     "name": "stdout",
     "output_type": "stream",
     "text": [
      "[(0, 50000, 0.08), (50000, 50000, 0.1), (100000, 50000, 0.15)]\n"
     ]
    },
    {
     "data": {
      "text/plain": [
       "16500.0"
      ]
     },
     "execution_count": 25,
     "metadata": {},
     "output_type": "execute_result"
    }
   ],
   "source": [
    "#%%timeit\n",
    "## Timing Ugly but fast one-liner #1\n",
    "income = 150000\n",
    "info = [(50000, 0.08), (100000, 0.10), (150000, 0.15)]\n",
    "info.sort()\n",
    "calculator3(info, income)"
   ]
  },
  {
   "cell_type": "code",
   "execution_count": 593,
   "metadata": {},
   "outputs": [
    {
     "data": {
      "text/plain": [
       "[1, 2, 3, 3, 4]"
      ]
     },
     "execution_count": 593,
     "metadata": {},
     "output_type": "execute_result"
    }
   ],
   "source": [
    "[1,2,3]+[3,4]"
   ]
  },
  {
   "cell_type": "code",
   "execution_count": 4,
   "metadata": {},
   "outputs": [
    {
     "data": {
      "text/plain": [
       "1"
      ]
     },
     "execution_count": 4,
     "metadata": {},
     "output_type": "execute_result"
    }
   ],
   "source": [
    "70/"
   ]
  },
  {
   "cell_type": "code",
   "execution_count": null,
   "metadata": {},
   "outputs": [],
   "source": []
  }
 ],
 "metadata": {
  "kernelspec": {
   "display_name": "Python [conda env:nf] *",
   "language": "python",
   "name": "conda-env-nf-py"
  },
  "language_info": {
   "codemirror_mode": {
    "name": "ipython",
    "version": 3
   },
   "file_extension": ".py",
   "mimetype": "text/x-python",
   "name": "python",
   "nbconvert_exporter": "python",
   "pygments_lexer": "ipython3",
   "version": "3.6.6"
  }
 },
 "nbformat": 4,
 "nbformat_minor": 2
}
