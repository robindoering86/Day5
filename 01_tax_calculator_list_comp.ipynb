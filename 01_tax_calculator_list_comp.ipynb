{
 "cells": [
  {
   "cell_type": "code",
   "execution_count": 9,
   "metadata": {},
   "outputs": [
    {
     "name": "stdout",
     "output_type": "stream",
     "text": [
      "41500.0\n"
     ]
    }
   ],
   "source": [
    "tax_list = [(50000, 0.08), (100000, 0.10), (150000, 0.15), (200000, 0.20), (250000, 0.25)]\n",
    "income = 260000\n",
    "\n",
    "def tax_calculator2(income, tax_list):\n",
    "    \n",
    "    tax_list.insert(0, (0,0))\n",
    "\n",
    "    taxtotal = sum([(income * (tax_list[i][1] - tax_list[i-1][1]) \\\n",
    "                     + tax_list[i-1][0] * (tax_list[i-1][1] - tax_list[i][1])) \\\n",
    "                     for i in range(1, len(tax_list)) if income > tax_list[i-1][0]])\n",
    "\n",
    "    return round(taxtotal, 2)\n",
    "\n",
    "\n",
    "print(tax_calculator2(income, tax_list))"
   ]
  },
  {
   "cell_type": "code",
   "execution_count": 8,
   "metadata": {},
   "outputs": [
    {
     "name": "stdout",
     "output_type": "stream",
     "text": [
      "41500.0\n"
     ]
    }
   ],
   "source": [
    "tax_list = [(50000, 0.08), (100000, 0.10), (150000, 0.15), (200000, 0.20), (250000, 0.25)]\n",
    "income = 260000\n",
    "\n",
    "def tax_calculator3(income, tax_list):\n",
    "    \n",
    "    tax_list.insert(0, (0,0))\n",
    "\n",
    "    taxtotal = sum([(income - tax_list[i-1][0]) * (tax_list[i][1] - tax_list[i-1][1]) \\\n",
    "                     for i in range(1, len(tax_list)) if income > tax_list[i-1][0]])\n",
    "\n",
    "    return round(taxtotal, 2)\n",
    "\n",
    "\n",
    "print(tax_calculator2(income, tax_list))"
   ]
  },
  {
   "cell_type": "code",
   "execution_count": null,
   "metadata": {},
   "outputs": [],
   "source": []
  }
 ],
 "metadata": {
  "kernelspec": {
   "display_name": "Python [conda env:nf] *",
   "language": "python",
   "name": "conda-env-nf-py"
  },
  "language_info": {
   "codemirror_mode": {
    "name": "ipython",
    "version": 3
   },
   "file_extension": ".py",
   "mimetype": "text/x-python",
   "name": "python",
   "nbconvert_exporter": "python",
   "pygments_lexer": "ipython3",
   "version": "3.6.6"
  }
 },
 "nbformat": 4,
 "nbformat_minor": 2
}
