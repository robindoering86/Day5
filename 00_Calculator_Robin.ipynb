{
 "cells": [
  {
   "cell_type": "code",
   "execution_count": 2,
   "metadata": {},
   "outputs": [],
   "source": [
    "## Ugly but fast one-liner\n",
    "def calculator3(ti, inc):\n",
    "    ti_w = [(a[0], b[0]-a[0], b[1]) for a, b in zip([(0, 0)]+ti, ti)]\n",
    "    return sum([min(w, inc-s)*r for s, w, r in ti_w[:-1] if inc>=s] \\\n",
    "               +[(inc-s) * r if inc>=s else 0 for s, _, r in ti_w[-1:]])"
   ]
  },
  {
   "cell_type": "code",
   "execution_count": 5,
   "metadata": {},
   "outputs": [
    {
     "name": "stdout",
     "output_type": "stream",
     "text": [
      "2.51 µs ± 24.4 ns per loop (mean ± std. dev. of 7 runs, 100000 loops each)\n"
     ]
    }
   ],
   "source": [
    "%%timeit\n",
    "## Timing Ugly but fast one-liner #1\n",
    "income = 250000\n",
    "info = [(50000, 0.08), (100000, 0.10), (150000, 0.15)]\n",
    "info.sort()\n",
    "calculator3(info, income)"
   ]
  },
  {
   "cell_type": "code",
   "execution_count": null,
   "metadata": {},
   "outputs": [],
   "source": []
  }
 ],
 "metadata": {
  "kernelspec": {
   "display_name": "Python [conda env:nf] *",
   "language": "python",
   "name": "conda-env-nf-py"
  },
  "language_info": {
   "codemirror_mode": {
    "name": "ipython",
    "version": 3
   },
   "file_extension": ".py",
   "mimetype": "text/x-python",
   "name": "python",
   "nbconvert_exporter": "python",
   "pygments_lexer": "ipython3",
   "version": "3.6.6"
  }
 },
 "nbformat": 4,
 "nbformat_minor": 2
}
